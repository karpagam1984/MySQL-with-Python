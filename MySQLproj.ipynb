{
 "cells": [
  {
   "cell_type": "code",
   "execution_count": 7,
   "id": "74851312-7720-4efc-85d7-e8060dc03a76",
   "metadata": {},
   "outputs": [],
   "source": [
    "# import libraries\n",
    "import mysql.connector\n",
    "from mysql.connector import Error\n",
    "import pandas as pd\n"
   ]
  },
  {
   "cell_type": "code",
   "execution_count": 8,
   "id": "c89e43a2-9cd0-4da0-9905-75ff6846d6a0",
   "metadata": {},
   "outputs": [
    {
     "name": "stdout",
     "output_type": "stream",
     "text": [
      "MySQL Database connection is successful\n"
     ]
    }
   ],
   "source": [
    "def create_server_connection(host_name, user_name, user_pwd):\n",
    "    connection = None\n",
    "    try:\n",
    "        connection = mysql.connector.connect(\n",
    "            host = host_name,\n",
    "            user = user_name,\n",
    "            passwd = user_pwd\n",
    "        )\n",
    "        print(\"MySQL Database connection is successful\")\n",
    "    except Error as err:\n",
    "        print(f\"Error: '{err}' \")\n",
    "    return connection\n",
    "# Put our MySQL Terminal Password\n",
    "pw = \"XXXXXXXXXXXXXX\"\n",
    "# Database Name\n",
    "db = \"mysql_python\"\n",
    "connection = create_server_connection(\"localhost\", \"root\", pw)\n",
    "\n"
   ]
  },
  {
   "cell_type": "code",
   "execution_count": 10,
   "id": "efbf920d-bbb9-4d97-bf94-56d153378cf6",
   "metadata": {},
   "outputs": [
    {
     "name": "stdout",
     "output_type": "stream",
     "text": [
      "Database created successfully\n"
     ]
    }
   ],
   "source": [
    "# Create mysql_python\n",
    "def create_database(connection, query):\n",
    "    cursor = connection.cursor()\n",
    "    try:\n",
    "        cursor.execute(query)\n",
    "        print(\"Database created successfully\")\n",
    "    except Error as err:\n",
    "        print(f\"Error : '{err}'\")\n",
    "create_database_query = \"Create database mysql_python\"\n",
    "create_database(connection, create_database_query)\n",
    "\n",
    "        "
   ]
  },
  {
   "cell_type": "code",
   "execution_count": 15,
   "id": "279a72c5-3167-4df3-9b1d-bbf49ce795d0",
   "metadata": {},
   "outputs": [],
   "source": [
    "# Connect to database\n",
    "def create_db_connection(host_name, user_name, user_password, db_name):\n",
    "    connection = None\n",
    "    try:\n",
    "        connection = mysql.connector.connect(\n",
    "            host = host_name,\n",
    "            user = user_name,\n",
    "            passwd = user_password,\n",
    "            database = db_name)\n",
    "        print(\"MySQL database connection successful\")\n",
    "    except Error as err:\n",
    "        print(f\"Error : '{err}'\")\n",
    "    return connection\n",
    "        \n",
    "            "
   ]
  },
  {
   "cell_type": "code",
   "execution_count": 16,
   "id": "018d0a15-8b62-40f9-a8bf-371d4c2f27e3",
   "metadata": {},
   "outputs": [],
   "source": [
    "# Execute SQL queries\n",
    "def execute_query(connection,query):\n",
    "    cursor = connection.cursor()\n",
    "    try:\n",
    "        cursor.execute(query)\n",
    "        connection.commit()\n",
    "        print(\"Query was successful\")\n",
    "    except Error as err:\n",
    "        print(f\"Error : '{err}'\")\n",
    "    return connection"
   ]
  },
  {
   "cell_type": "code",
   "execution_count": 20,
   "id": "27aad338-4ead-483f-9db5-1ede90fce34b",
   "metadata": {},
   "outputs": [
    {
     "name": "stdout",
     "output_type": "stream",
     "text": [
      "MySQL database connection successful\n",
      "Query was successful\n"
     ]
    },
    {
     "data": {
      "text/plain": [
       "<mysql.connector.connection.MySQLConnection at 0x259771833d0>"
      ]
     },
     "execution_count": 20,
     "metadata": {},
     "output_type": "execute_result"
    }
   ],
   "source": [
    "# Create a table in MySQL\n",
    "create_orders_table = \"\"\"\n",
    "create table orders(\n",
    "order_id int primary key,\n",
    "customer_name varchar(30) not null,\n",
    "product_name varchar(20) not null,\n",
    "date_ordered date,\n",
    "quantity int,\n",
    "unit_price float,\n",
    "phone_number varchar(20));\n",
    "\"\"\"\n",
    "# Connect to the database\n",
    "connection = create_db_connection(\"localhost\", \"root\", pw, db)\n",
    "execute_query(connection, create_orders_table)\n"
   ]
  },
  {
   "cell_type": "code",
   "execution_count": 22,
   "id": "5a56aab4-8700-46eb-af80-d4993a8e3186",
   "metadata": {},
   "outputs": [
    {
     "name": "stdout",
     "output_type": "stream",
     "text": [
      "MySQL database connection successful\n",
      "Error : '1062 (23000): Duplicate entry '101' for key 'orders.PRIMARY''\n"
     ]
    },
    {
     "data": {
      "text/plain": [
       "<mysql.connector.connection.MySQLConnection at 0x25977180f10>"
      ]
     },
     "execution_count": 22,
     "metadata": {},
     "output_type": "execute_result"
    }
   ],
   "source": [
    "# Insert data\n",
    "data_orders = \"\"\"\n",
    "insert into orders values \n",
    "(101,'Sai Praveen1', 'Laptop', '2024-12-24', 2, 800, '9884001635'),\n",
    "(102,'Prithwin Arya1', 'Kindle', '2024-12-24', 2, 12800, '9884001636'),\n",
    "(103,'Sai Praveen2', 'Phone', '2024-12-24', 3, 14800, '9884001637'),\n",
    "(104,'Prithwin Arya2', 'T-Shirt', '2024-12-24', 4, 500, '9884001638'),\n",
    "(105,'Sai Praveen3', 'Pants', '2024-12-24', 5, 400, '9884001639'),\n",
    "(106,'Prithwin Arya3', 'Smart-TV', '2024-12-24', 1, 20000, '9884001639');\n",
    "\"\"\"\n",
    "connection = create_db_connection(\"localhost\", \"root\", pw, db)\n",
    "execute_query(connection, data_orders)\n"
   ]
  },
  {
   "cell_type": "code",
   "execution_count": 23,
   "id": "ffea1806-b436-4038-908f-f11003759614",
   "metadata": {},
   "outputs": [],
   "source": [
    "def read_query(connection,query):\n",
    "    cursor = connection.cursor()\n",
    "    result = None\n",
    "    try:\n",
    "        cursor.execute(query)\n",
    "        result = cursor.fetchall()\n",
    "        return result\n",
    "    except Error as err:\n",
    "        print(f\"Error : '{err}'\")\n",
    "    "
   ]
  },
  {
   "cell_type": "code",
   "execution_count": 24,
   "id": "25e87cf0-b327-48d5-aafe-b02a5241505e",
   "metadata": {},
   "outputs": [
    {
     "name": "stdout",
     "output_type": "stream",
     "text": [
      "MySQL database connection successful\n",
      "(101, 'Sai Praveen1', 'Laptop', datetime.date(2024, 12, 24), 2, 800.0, '9884001635')\n",
      "(102, 'Prithwin Arya1', 'Kindle', datetime.date(2024, 12, 24), 2, 12800.0, '9884001636')\n",
      "(103, 'Sai Praveen2', 'Phone', datetime.date(2024, 12, 24), 3, 14800.0, '9884001637')\n",
      "(104, 'Prithwin Arya2', 'T-Shirt', datetime.date(2024, 12, 24), 4, 500.0, '9884001638')\n",
      "(105, 'Sai Praveen3', 'Pants', datetime.date(2024, 12, 24), 5, 400.0, '9884001639')\n",
      "(106, 'Prithwin Arya3', 'Smart-TV', datetime.date(2024, 12, 24), 1, 20000.0, '9884001639')\n"
     ]
    }
   ],
   "source": [
    "# Using the select stmt\n",
    "q1 = \"\"\"\n",
    "select * from orders;\n",
    "\"\"\"\n",
    "connection = create_db_connection(\"localhost\", \"root\", pw, db)\n",
    "results = read_query(connection,q1)\n",
    "for result in results:\n",
    "    print(result)\n",
    "    "
   ]
  },
  {
   "cell_type": "code",
   "execution_count": 28,
   "id": "8cf3d611-0a18-4e57-b03c-d0fae42a066d",
   "metadata": {},
   "outputs": [
    {
     "name": "stdout",
     "output_type": "stream",
     "text": [
      "MySQL database connection successful\n",
      "('Sai Praveen1',)\n",
      "('Prithwin Arya1',)\n",
      "('Sai Praveen2',)\n",
      "('Prithwin Arya2',)\n",
      "('Sai Praveen3',)\n",
      "('Prithwin Arya3',)\n"
     ]
    }
   ],
   "source": [
    "# Using the select stmt\n",
    "q2 = \"\"\"\n",
    "select customer_name from orders;\n",
    "\"\"\"\n",
    "connection = create_db_connection(\"localhost\", \"root\", pw, db)\n",
    "results = read_query(connection,q2)\n",
    "for result in results:\n",
    "    print(result)"
   ]
  },
  {
   "cell_type": "code",
   "execution_count": 29,
   "id": "f7cf91d4-a356-4a8e-a3f4-23e54ff5ea4c",
   "metadata": {},
   "outputs": [
    {
     "name": "stdout",
     "output_type": "stream",
     "text": [
      "MySQL database connection successful\n",
      "(2024,)\n",
      "(2024,)\n",
      "(2024,)\n",
      "(2024,)\n",
      "(2024,)\n",
      "(2024,)\n"
     ]
    }
   ],
   "source": [
    "# Using the select stmt - Year display\n",
    "q3 = \"\"\"\n",
    "select year(date_ordered) from orders;\n",
    "\"\"\"\n",
    "connection = create_db_connection(\"localhost\", \"root\", pw, db)\n",
    "results = read_query(connection,q3)\n",
    "for result in results:\n",
    "    print(result)"
   ]
  },
  {
   "cell_type": "code",
   "execution_count": 30,
   "id": "329b660e-67f3-4d2c-ab89-cfe95ce56ecd",
   "metadata": {},
   "outputs": [
    {
     "name": "stdout",
     "output_type": "stream",
     "text": [
      "MySQL database connection successful\n",
      "('Laptop',)\n",
      "('Kindle',)\n",
      "('Phone',)\n",
      "('T-Shirt',)\n",
      "('Pants',)\n",
      "('Smart-TV',)\n"
     ]
    }
   ],
   "source": [
    "# Using the select stmt - Year display\n",
    "q4 = \"\"\"\n",
    "select product_name from orders;\n",
    "\"\"\"\n",
    "connection = create_db_connection(\"localhost\", \"root\", pw, db)\n",
    "results = read_query(connection,q4)\n",
    "for result in results:\n",
    "    print(result)"
   ]
  },
  {
   "cell_type": "code",
   "execution_count": 31,
   "id": "ecd099bd-eb7c-4193-b149-66dcfca0e09a",
   "metadata": {},
   "outputs": [
    {
     "name": "stdout",
     "output_type": "stream",
     "text": [
      "MySQL database connection successful\n",
      "(2024,)\n"
     ]
    }
   ],
   "source": [
    "# Using the select stmt - Year display\n",
    "q5 = \"\"\"\n",
    "select distinct year(date_ordered) from orders;\n",
    "\"\"\"\n",
    "connection = create_db_connection(\"localhost\", \"root\", pw, db)\n",
    "results = read_query(connection,q5)\n",
    "for result in results:\n",
    "    print(result)"
   ]
  },
  {
   "cell_type": "code",
   "execution_count": 32,
   "id": "6c1ee9bb-db58-4c7d-b377-9ca6ea108767",
   "metadata": {},
   "outputs": [
    {
     "name": "stdout",
     "output_type": "stream",
     "text": [
      "MySQL database connection successful\n",
      "(101, 'Sai Praveen1', 'Laptop', datetime.date(2024, 12, 24), 2, 800.0, '9884001635')\n",
      "(102, 'Prithwin Arya1', 'Kindle', datetime.date(2024, 12, 24), 2, 12800.0, '9884001636')\n",
      "(103, 'Sai Praveen2', 'Phone', datetime.date(2024, 12, 24), 3, 14800.0, '9884001637')\n",
      "(104, 'Prithwin Arya2', 'T-Shirt', datetime.date(2024, 12, 24), 4, 500.0, '9884001638')\n",
      "(106, 'Prithwin Arya3', 'Smart-TV', datetime.date(2024, 12, 24), 1, 20000.0, '9884001639')\n"
     ]
    }
   ],
   "source": [
    "# Using the select stmt - quantity < 5\n",
    "q6 = \"\"\"\n",
    "select * from orders where quantity < 5;\n",
    "\"\"\"\n",
    "connection = create_db_connection(\"localhost\", \"root\", pw, db)\n",
    "results = read_query(connection,q6)\n",
    "for result in results:\n",
    "    print(result)"
   ]
  },
  {
   "cell_type": "code",
   "execution_count": 33,
   "id": "66a71c4f-1f2e-4819-9eb0-e420b8772130",
   "metadata": {},
   "outputs": [
    {
     "name": "stdout",
     "output_type": "stream",
     "text": [
      "MySQL database connection successful\n",
      "(105, 'Sai Praveen3', 'Pants', datetime.date(2024, 12, 24), 5, 400.0, '9884001639')\n",
      "(104, 'Prithwin Arya2', 'T-Shirt', datetime.date(2024, 12, 24), 4, 500.0, '9884001638')\n",
      "(101, 'Sai Praveen1', 'Laptop', datetime.date(2024, 12, 24), 2, 800.0, '9884001635')\n",
      "(102, 'Prithwin Arya1', 'Kindle', datetime.date(2024, 12, 24), 2, 12800.0, '9884001636')\n",
      "(103, 'Sai Praveen2', 'Phone', datetime.date(2024, 12, 24), 3, 14800.0, '9884001637')\n",
      "(106, 'Prithwin Arya3', 'Smart-TV', datetime.date(2024, 12, 24), 1, 20000.0, '9884001639')\n"
     ]
    }
   ],
   "source": [
    "# Using the select stmt - unit price \n",
    "q7 = \"\"\"\n",
    "select * from orders order by unit_price;\n",
    "\"\"\"\n",
    "connection = create_db_connection(\"localhost\", \"root\", pw, db)\n",
    "results = read_query(connection,q7)\n",
    "for result in results:\n",
    "    print(result)"
   ]
  },
  {
   "cell_type": "code",
   "execution_count": 38,
   "id": "79eed58e-730f-4d73-824b-6438a83edfb2",
   "metadata": {},
   "outputs": [
    {
     "data": {
      "text/html": [
       "<div>\n",
       "<style scoped>\n",
       "    .dataframe tbody tr th:only-of-type {\n",
       "        vertical-align: middle;\n",
       "    }\n",
       "\n",
       "    .dataframe tbody tr th {\n",
       "        vertical-align: top;\n",
       "    }\n",
       "\n",
       "    .dataframe thead th {\n",
       "        text-align: right;\n",
       "    }\n",
       "</style>\n",
       "<table border=\"1\" class=\"dataframe\">\n",
       "  <thead>\n",
       "    <tr style=\"text-align: right;\">\n",
       "      <th></th>\n",
       "      <th>order_id</th>\n",
       "      <th>customer_name</th>\n",
       "      <th>product_name</th>\n",
       "      <th>date_ordered</th>\n",
       "      <th>quantity</th>\n",
       "      <th>unit_price</th>\n",
       "      <th>phone_number</th>\n",
       "    </tr>\n",
       "  </thead>\n",
       "  <tbody>\n",
       "    <tr>\n",
       "      <th>0</th>\n",
       "      <td>105</td>\n",
       "      <td>Sai Praveen3</td>\n",
       "      <td>Pants</td>\n",
       "      <td>2024-12-24</td>\n",
       "      <td>5</td>\n",
       "      <td>400.0</td>\n",
       "      <td>9884001639</td>\n",
       "    </tr>\n",
       "    <tr>\n",
       "      <th>1</th>\n",
       "      <td>104</td>\n",
       "      <td>Prithwin Arya2</td>\n",
       "      <td>T-Shirt</td>\n",
       "      <td>2024-12-24</td>\n",
       "      <td>4</td>\n",
       "      <td>500.0</td>\n",
       "      <td>9884001638</td>\n",
       "    </tr>\n",
       "    <tr>\n",
       "      <th>2</th>\n",
       "      <td>101</td>\n",
       "      <td>Sai Praveen1</td>\n",
       "      <td>Laptop</td>\n",
       "      <td>2024-12-24</td>\n",
       "      <td>2</td>\n",
       "      <td>800.0</td>\n",
       "      <td>9884001635</td>\n",
       "    </tr>\n",
       "    <tr>\n",
       "      <th>3</th>\n",
       "      <td>102</td>\n",
       "      <td>Prithwin Arya1</td>\n",
       "      <td>Kindle</td>\n",
       "      <td>2024-12-24</td>\n",
       "      <td>2</td>\n",
       "      <td>12800.0</td>\n",
       "      <td>9884001636</td>\n",
       "    </tr>\n",
       "    <tr>\n",
       "      <th>4</th>\n",
       "      <td>103</td>\n",
       "      <td>Sai Praveen2</td>\n",
       "      <td>Phone</td>\n",
       "      <td>2024-12-24</td>\n",
       "      <td>3</td>\n",
       "      <td>14800.0</td>\n",
       "      <td>9884001637</td>\n",
       "    </tr>\n",
       "    <tr>\n",
       "      <th>5</th>\n",
       "      <td>106</td>\n",
       "      <td>Prithwin Arya3</td>\n",
       "      <td>Smart-TV</td>\n",
       "      <td>2024-12-24</td>\n",
       "      <td>1</td>\n",
       "      <td>20000.0</td>\n",
       "      <td>9884001639</td>\n",
       "    </tr>\n",
       "  </tbody>\n",
       "</table>\n",
       "</div>"
      ],
      "text/plain": [
       "   order_id   customer_name product_name date_ordered  quantity  unit_price  \\\n",
       "0       105    Sai Praveen3        Pants   2024-12-24         5       400.0   \n",
       "1       104  Prithwin Arya2      T-Shirt   2024-12-24         4       500.0   \n",
       "2       101    Sai Praveen1       Laptop   2024-12-24         2       800.0   \n",
       "3       102  Prithwin Arya1       Kindle   2024-12-24         2     12800.0   \n",
       "4       103    Sai Praveen2        Phone   2024-12-24         3     14800.0   \n",
       "5       106  Prithwin Arya3     Smart-TV   2024-12-24         1     20000.0   \n",
       "\n",
       "  phone_number  \n",
       "0   9884001639  \n",
       "1   9884001638  \n",
       "2   9884001635  \n",
       "3   9884001636  \n",
       "4   9884001637  \n",
       "5   9884001639  "
      ]
     },
     "metadata": {},
     "output_type": "display_data"
    }
   ],
   "source": [
    "# Create a data frame from the table\n",
    "from_db = []\n",
    "for result in results:\n",
    "    result = list(result)  #RHS result is a row from the table\n",
    "    from_db.append(result)\n",
    "columns = [\"order_id\", \"customer_name\", \"product_name\", \"date_ordered\", \"quantity\", \"unit_price\", \"phone_number\"]\n",
    "df = pd.DataFrame(from_db, columns=columns)\n",
    "display(df)\n"
   ]
  },
  {
   "cell_type": "code",
   "execution_count": 39,
   "id": "57bf85f4-73c4-439f-bfa1-2a94ec05b0df",
   "metadata": {},
   "outputs": [
    {
     "name": "stdout",
     "output_type": "stream",
     "text": [
      "MySQL database connection successful\n",
      "Query was successful\n"
     ]
    },
    {
     "data": {
      "text/plain": [
       "<mysql.connector.connection.MySQLConnection at 0x25978cc7090>"
      ]
     },
     "execution_count": 39,
     "metadata": {},
     "output_type": "execute_result"
    }
   ],
   "source": [
    "# Update command\n",
    "update = \"\"\"\n",
    "update orders \n",
    "set unit_price = 45\n",
    "where order_id = 103\n",
    "\"\"\"\n",
    "connection = create_db_connection(\"localhost\", \"root\", pw, db)\n",
    "execute_query(connection,update)\n"
   ]
  },
  {
   "cell_type": "code",
   "execution_count": 40,
   "id": "a0c2faf0-82b5-45c7-a149-d55479c86065",
   "metadata": {},
   "outputs": [
    {
     "name": "stdout",
     "output_type": "stream",
     "text": [
      "MySQL database connection successful\n",
      "(101, 'Sai Praveen1', 'Laptop', datetime.date(2024, 12, 24), 2, 800.0, '9884001635')\n",
      "(102, 'Prithwin Arya1', 'Kindle', datetime.date(2024, 12, 24), 2, 12800.0, '9884001636')\n",
      "(103, 'Sai Praveen2', 'Phone', datetime.date(2024, 12, 24), 3, 45.0, '9884001637')\n",
      "(104, 'Prithwin Arya2', 'T-Shirt', datetime.date(2024, 12, 24), 4, 500.0, '9884001638')\n",
      "(105, 'Sai Praveen3', 'Pants', datetime.date(2024, 12, 24), 5, 400.0, '9884001639')\n",
      "(106, 'Prithwin Arya3', 'Smart-TV', datetime.date(2024, 12, 24), 1, 20000.0, '9884001639')\n"
     ]
    }
   ],
   "source": [
    "# Using the select stmt\n",
    "q1 = \"\"\"\n",
    "select * from orders;\n",
    "\"\"\"\n",
    "connection = create_db_connection(\"localhost\", \"root\", pw, db)\n",
    "results = read_query(connection,q1)\n",
    "for result in results:\n",
    "    print(result)"
   ]
  },
  {
   "cell_type": "code",
   "execution_count": null,
   "id": "e92a266f-0471-4a5f-99b1-8b81b06b551f",
   "metadata": {},
   "outputs": [],
   "source": []
  }
 ],
 "metadata": {
  "kernelspec": {
   "display_name": "Python 3 (ipykernel)",
   "language": "python",
   "name": "python3"
  },
  "language_info": {
   "codemirror_mode": {
    "name": "ipython",
    "version": 3
   },
   "file_extension": ".py",
   "mimetype": "text/x-python",
   "name": "python",
   "nbconvert_exporter": "python",
   "pygments_lexer": "ipython3",
   "version": "3.11.7"
  }
 },
 "nbformat": 4,
 "nbformat_minor": 5
}
